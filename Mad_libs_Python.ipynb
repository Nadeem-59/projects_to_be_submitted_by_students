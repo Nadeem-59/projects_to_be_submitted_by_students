{
  "nbformat": 4,
  "nbformat_minor": 0,
  "metadata": {
    "colab": {
      "provenance": [],
      "authorship_tag": "ABX9TyMe+y0AF4wuc4uacYM0spTz",
      "include_colab_link": true
    },
    "kernelspec": {
      "name": "python3",
      "display_name": "Python 3"
    },
    "language_info": {
      "name": "python"
    }
  },
  "cells": [
    {
      "cell_type": "markdown",
      "metadata": {
        "id": "view-in-github",
        "colab_type": "text"
      },
      "source": [
        "<a href=\"https://colab.research.google.com/github/Nadeem-59/projects_to_be_submitted_by_students/blob/main/Mad_libs_Python.ipynb\" target=\"_parent\"><img src=\"https://colab.research.google.com/assets/colab-badge.svg\" alt=\"Open In Colab\"/></a>"
      ]
    },
    {
      "cell_type": "markdown",
      "source": [
        "Mad libs Python\n"
      ],
      "metadata": {
        "id": "Z_zWFw6JUQim"
      }
    },
    {
      "cell_type": "code",
      "source": [
        "import random\n",
        "\n",
        "def mad_libs():\n",
        "    \"\"\"Mad Libs گیم جہاں یوزر کے الفاظ سے ایک مزاحیہ کہانی بنتی ہے\"\"\"\n",
        "\n",
        "    print(\"🎭 Welcome to the Ultimate Mad Libs Adventure! 🎭\")\n",
        "    print(\"Fill in the blanks to create a funny and exciting story!\\n\")\n",
        "\n",
        "    # 🔹 user se input lena\n",
        "    name = input(\"Enter a name: \")\n",
        "    friend = input(\"Enter a friend's name: \")\n",
        "    place = input(\"Enter a magical place: \")\n",
        "    vehicle = input(\"Enter a type of vehicle: \")\n",
        "    animal = input(\"Enter an animal: \")\n",
        "    adjective1 = input(\"Enter an adjective: \")\n",
        "    adjective2 = input(\"Enter another adjective: \")\n",
        "    verb1 = input(\"Enter a verb (past tense): \")\n",
        "    verb2 = input(\"Enter another verb: \")\n",
        "    food = input(\"Enter a type of food: \")\n",
        "    number = input(\"Enter a number: \")\n",
        "    object1 = input(\"Enter an object: \")\n",
        "    object2 = input(\"Enter another object: \")\n",
        "\n",
        "\n",
        "    story = f\"\"\"\n",
        "    Once upon a time, {name} and their best friend {friend} decided to go on an adventure.\n",
        "    They packed their bags and set off for {place} in their {adjective1} {vehicle}.\n",
        "    As they traveled, they saw a {adjective2} {animal} trying to {verb1} on the side of the road!\n",
        "\n",
        "    \"Wow! That is so strange!\" said {friend}.\n",
        "    \"Let's stop and see what's happening!\"\n",
        "\n",
        "    As they got closer, the {animal} suddenly grabbed {name}'s {object1} and ran away!\n",
        "    \"Oh no! We have to {verb2} after it!\" {name} shouted.\n",
        "\n",
        "    After chasing the {animal} for {number} miles, they finally reached a mysterious cave.\n",
        "    Inside, they found piles of {food} and sparkling {object2}.\n",
        "\n",
        "    \"This must be the legendary treasure of {place}!\" {friend} exclaimed.\n",
        "\n",
        "    In the end, they decided to take some {food}, leave the {object2} behind, and head home.\n",
        "    It was the most unforgettable adventure of their lives!\n",
        "    \"\"\"\n",
        "\n",
        "\n",
        "    print(\"\\n📖 Here is your Mad Libs story:\")\n",
        "    print(story)\n",
        "\n",
        "# 🚀\n",
        "if __name__ == \"__main__\":\n",
        "    mad_libs()\n"
      ],
      "metadata": {
        "colab": {
          "base_uri": "https://localhost:8080/"
        },
        "id": "P9-qy6E-ZM1g",
        "outputId": "c1698cb7-a76a-4a6c-bf3b-cad37f61fb78"
      },
      "execution_count": 9,
      "outputs": [
        {
          "output_type": "stream",
          "name": "stdout",
          "text": [
            "🎭 Welcome to the Ultimate Mad Libs Adventure! 🎭\n",
            "Fill in the blanks to create a funny and exciting story!\n",
            "\n",
            "Enter a name: Shahmeer\n",
            "Enter a friend's name: Shahzain\n",
            "Enter a magical place: Enchanted Forest\n",
            "Enter a type of vehicle: car\n",
            "Enter an animal: Monkey\n",
            "Enter an adjective: Beautiful\n",
            "Enter another adjective: Naughty\n",
            "Enter a verb (past tense): Dance\n",
            "Enter another verb: running\n",
            "Enter a type of food: Diamond\n",
            "Enter a number: 5\n",
            "Enter an object: ball\n",
            "Enter another object: sliver sword\n",
            "\n",
            "📖 Here is your Mad Libs story:\n",
            "\n",
            "    Once upon a time, Shahmeer and their best friend Shahzain decided to go on an adventure. \n",
            "    They packed their bags and set off for Enchanted Forest in their Beautiful car. \n",
            "    As they traveled, they saw a Naughty Monkey trying to Dance on the side of the road! \n",
            "\n",
            "    \"Wow! That is so strange!\" said Shahzain. \n",
            "    \"Let's stop and see what's happening!\" \n",
            "\n",
            "    As they got closer, the Monkey suddenly grabbed Shahmeer's ball and ran away! \n",
            "    \"Oh no! We have to running after it!\" Shahmeer shouted. \n",
            "\n",
            "    After chasing the Monkey for 5 miles, they finally reached a mysterious cave. \n",
            "    Inside, they found piles of Diamond and sparkling sliver sword. \n",
            "\n",
            "    \"This must be the legendary treasure of Enchanted Forest!\" Shahzain exclaimed. \n",
            "\n",
            "    In the end, they decided to take some Diamond, leave the sliver sword behind, and head home. \n",
            "    It was the most unforgettable adventure of their lives!  \n",
            "    \n"
          ]
        }
      ]
    }
  ]
}